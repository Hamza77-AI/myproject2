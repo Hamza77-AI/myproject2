{
  "nbformat": 4,
  "nbformat_minor": 0,
  "metadata": {
    "colab": {
      "provenance": [],
      "authorship_tag": "ABX9TyOnkdeDiZEL+rAGvjf+0KP5",
      "include_colab_link": true
    },
    "kernelspec": {
      "name": "python3",
      "display_name": "Python 3"
    },
    "language_info": {
      "name": "python"
    }
  },
  "cells": [
    {
      "cell_type": "markdown",
      "metadata": {
        "id": "view-in-github",
        "colab_type": "text"
      },
      "source": [
        "<a href=\"https://colab.research.google.com/github/Hamza77-AI/myproject2/blob/main/assignment4.ipynb\" target=\"_parent\"><img src=\"https://colab.research.google.com/assets/colab-badge.svg\" alt=\"Open In Colab\"/></a>"
      ]
    },
    {
      "cell_type": "code",
      "execution_count": 1,
      "metadata": {
        "id": "DuvizN1yTNKZ"
      },
      "outputs": [],
      "source": [
        "class Shape:\n",
        "  def area(self):\n",
        "    return 0\n",
        "\n",
        "  def print_info(self):\n",
        "    print(f\"the type of shape:{self.__class__.__name__},the area:{self.area()}\")\n",
        "\n",
        "class Rectangle(Shape):\n",
        "  def __init__(self, width, height):\n",
        "    self.width = width\n",
        "    self.height = height\n",
        "\n",
        "  def area(self):\n",
        "    return self.width * self.height\n",
        "\n",
        "  def print_info(self):\n",
        "    print(f\"the type of shape:{self.__class__.__name__}, width:{self.width}, height:{self.height}the area:{self.area()}\")\n",
        "class Circle(Shape):\n",
        "  def __init__(self, radius):\n",
        "    self.radius = radius\n",
        "\n",
        "  def area(self):\n",
        "    return 3.14 * self.radius * self.radius\n",
        "\n",
        "\n",
        "  def print_info(self):\n",
        "    print(f\"the type of shape:{self.__class__.__name__}, radius{self.radius}, the area:{self.area()}\")\n",
        "\n"
      ]
    },
    {
      "cell_type": "code",
      "source": [
        "class student:\n",
        "  def __init__(self, name, age, grade):\n",
        "    self.__name = name\n",
        "    self.__age = age\n",
        "    self.__grade = grade\n",
        "\n",
        "  def get_name(self):\n",
        "    return self.__name\n",
        "\n",
        "  def get_age(self):\n",
        "    return self.__age\n",
        "\n",
        "  def get_grade(self):\n",
        "    return self.__grade\n",
        "\n",
        "  def add_grade(self, grade):\n",
        "    if 0 <= grade <= 100:\n",
        "      self.__grade = grade\n",
        "    else:\n",
        "      print(\"Invalid grade. Grade must be between 0 and 100.\")\n",
        "  def average_grade(self):\n",
        "    if self.__grade:\n",
        "      return sum(self.__grade) / len(self.__grade)\n",
        "    else:\n",
        "      return 0\n"
      ],
      "metadata": {
        "id": "BkFnHopjWSPY"
      },
      "execution_count": 2,
      "outputs": []
    }
  ]
}